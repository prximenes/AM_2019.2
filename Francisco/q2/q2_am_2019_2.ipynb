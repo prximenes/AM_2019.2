{
  "nbformat": 4,
  "nbformat_minor": 0,
  "metadata": {
    "colab": {
      "name": "q2_am_2019-2-fssn.ipynb",
      "provenance": [],
      "collapsed_sections": [
        "XtAKx3uwCA56"
      ]
    },
    "kernelspec": {
      "name": "python3",
      "display_name": "Python 3"
    },
    "accelerator": "GPU"
  },
  "cells": [
    {
      "cell_type": "markdown",
      "metadata": {
        "id": "6UOjuU6ATswr",
        "colab_type": "text"
      },
      "source": [
        "\n",
        " \n",
        "# **QUESTÃO 2 PROJETO AM_2019**\n",
        "\n",
        "> Base de dados:  [Image segmentation](http://archive.ics.uci.edu/ml/datasets/image+segmentation); Tabela com 2100 objetos e 7 classes. cada objeto tem 19 variáveis onde as 9 primeiras sao o Shape View e as 10 ultimas RGB View \n",
        "\n",
        "\n",
        "* Test data: 2100; Training Data: 210\n",
        "* 19 continuos attributes\n",
        "* Classes:  brickface, sky, foliage, cement, window, path, grass.\n",
        "\n",
        "\n",
        "\n",
        "\n"
      ]
    },
    {
      "cell_type": "markdown",
      "metadata": {
        "id": "XtAKx3uwCA56",
        "colab_type": "text"
      },
      "source": [
        "# **ABOUT** **DATA**\n"
      ]
    },
    {
      "cell_type": "markdown",
      "metadata": {
        "id": "-4ZSuyT2B38H",
        "colab_type": "text"
      },
      "source": [
        "1. Title: Image Segmentation data\n",
        "\n",
        "2. Source Information\n",
        "   -- Creators: Vision Group, University of Massachusetts\n",
        "   -- Donor: Vision Group (Carla Brodley, brodley@cs.umass.edu)\n",
        "   -- Date: November, 1990\n",
        " \n",
        "3. Past Usage: None yet published\n",
        "\n",
        "4. Relevant Information:\n",
        "\n",
        "   The instances were drawn randomly from a database of 7 outdoor \n",
        "   images.  The images were handsegmented to create a classification\n",
        "   for every pixel.  \n",
        "\n",
        "   Each instance is a 3x3 region.\n",
        "\n",
        "5. Number of Instances: Training data: 210  Test data: 2100\n",
        "\n",
        "6. Number of Attributes: 19 continuous attributes\n",
        "\n",
        "7. Attribute Information:\n",
        "\n",
        "    1.  region-centroid-col:  the column of the center pixel of the region.\n",
        "    2.  region-centroid-row:  the row of the center pixel of the region.\n",
        "    3.  region-pixel-count:  the number of pixels in a region = 9.\n",
        "    4.  short-line-density-5:  the results of a line extractoin algorithm that \n",
        "         counts how many lines of length 5 (any orientation) with\n",
        "         low contrast, less than or equal to 5, go through the region.\n",
        "    5.  short-line-density-2:  same as short-line-density-5 but counts lines\n",
        "         of high contrast, greater than 5.\n",
        "    6.  vedge-mean:  measure the contrast of horizontally\n",
        "         adjacent pixels in the region.  There are 6, the mean and \n",
        "         standard deviation are given.  This attribute is used as\n",
        "        a vertical edge detector.\n",
        "    7.  vegde-sd:  (see 6)\n",
        "    8.  hedge-mean:  measures the contrast of vertically adjacent\n",
        "          pixels. Used for horizontal line detection. \n",
        "    9.  hedge-sd: (see 8).\n",
        "    10. intensity-mean:  the average over the region of (R + G + B)/3\n",
        "    11. rawred-mean: the average over the region of the R value.\n",
        "    12. rawblue-mean: the average over the region of the B value.\n",
        "    13. rawgreen-mean: the average over the region of the G value.\n",
        "    14. exred-mean: measure the excess red:  (2R - (G + B))\n",
        "    15. exblue-mean: measure the excess blue:  (2B - (G + R))\n",
        "    16. exgreen-mean: measure the excess green:  (2G - (R + B))\n",
        "    17. value-mean:  3-d nonlinear transformation\n",
        "         of RGB. (Algorithm can be found in Foley and VanDam, Fundamentals\n",
        "         of Interactive Computer Graphics)\n",
        "    18. saturatoin-mean:  (see 17)\n",
        "    19. hue-mean:  (see 17)\n",
        "\n",
        "8. Missing Attribute Values: None\n",
        "\n",
        "9. Class Distribution: \n",
        "\n",
        "   Classes:  brickface, sky, foliage, cement, window, path, grass.\n",
        "\n",
        "   30 instances per class for training data.\n",
        "   300 instances per class for test data.\n"
      ]
    },
    {
      "cell_type": "markdown",
      "metadata": {
        "id": "jKOKeF0dfPjj",
        "colab_type": "text"
      },
      "source": [
        "# **Imports**\n"
      ]
    },
    {
      "cell_type": "code",
      "metadata": {
        "id": "TO1EpZxETuzN",
        "colab_type": "code",
        "colab": {}
      },
      "source": [
        "#!pip uninstall matplotlib==3.1.1\n",
        "#!pip install matplotlib==3.0.3\n",
        "\n",
        "from scipy.spatial.distance import pdist, squareform\n",
        "import scipy as scip\n",
        "import numpy as np # linear algebra\n",
        "import pandas as pd # data processing, CSV file I/O (e.g. pd.read_csv)\n",
        "import matplotlib.pyplot as plt\n",
        "import seaborn as sns\n",
        "import math\n",
        "import random\n",
        "import numpy\n",
        "\n",
        "from numpy.random import seed, randn\n",
        "from scipy.stats import wilcoxon\n",
        "from sklearn import metrics\n",
        "from sklearn.metrics import accuracy_score, mean_squared_error, confusion_matrix, classification_report\n",
        "from sklearn.cluster import KMeans\n",
        "from sklearn.decomposition import PCA\n",
        "from sklearn.preprocessing import Normalizer\n",
        "from sklearn.preprocessing import LabelEncoder\n",
        "from sklearn.preprocessing import normalize\n",
        "from sklearn.neighbors import KNeighborsClassifier\n",
        "from sklearn.model_selection import train_test_split, GridSearchCV, StratifiedKFold\n",
        "from sklearn.naive_bayes import GaussianNB\n",
        "from sklearn.dummy import DummyClassifier\n",
        "from sklearn.model_selection import RepeatedStratifiedKFold\n",
        "\n",
        "import tensorflow.compat.v1 as tf\n",
        "tf.disable_v2_behavior()"
      ],
      "execution_count": 0,
      "outputs": []
    },
    {
      "cell_type": "markdown",
      "metadata": {
        "id": "XWyuc9XMT_Px",
        "colab_type": "text"
      },
      "source": [
        "# Carregar e inicalizar dados"
      ]
    },
    {
      "cell_type": "code",
      "metadata": {
        "id": "Tmr3ZwbrT-az",
        "colab_type": "code",
        "colab": {}
      },
      "source": [
        "TRAIN_DATA_URL = \"http://archive.ics.uci.edu/ml/machine-learning-databases/image/segmentation.data\"\n",
        "TEST_DATA_URL = \"http://archive.ics.uci.edu/ml/machine-learning-databases/image/segmentation.test\"\n",
        "\n",
        "\n",
        "# Dados para treinamento a serem comparados\n",
        "train_file_path = tf.keras.utils.get_file(\"segmentation.data.csv\", TRAIN_DATA_URL) #210\n",
        "# Dados de teste para classificação\n",
        "test_file_path = tf.keras.utils.get_file(\"segmentation.test\", TEST_DATA_URL) #2100"
      ],
      "execution_count": 0,
      "outputs": []
    },
    {
      "cell_type": "code",
      "metadata": {
        "id": "8OwJZkE64MvP",
        "colab_type": "code",
        "colab": {}
      },
      "source": [
        "# Reduce memory usage\n",
        "def get_optimized_column(column):\n",
        "    if not np.issubdtype(column.dtypes, np.number):\n",
        "        return column\n",
        "    integers = [np.int8, np.int16, np.int32, np.int64]\n",
        "    floats = [np.float16, np.float32, np.float64]\n",
        "    max = column.max()\n",
        "    relevant_types = integers if np.issubdtype(column.dtypes, np.integer) else floats\n",
        "    for dtype in relevant_types:\n",
        "        if dtype(max) == max:\n",
        "            return column.astype(dtype)\n",
        "    return column\n",
        "\n",
        "\n",
        "def reduce_mem_usage(df, verbose=True):\n",
        "    start_mem = df.memory_usage().sum() / 1024**2    \n",
        "    for column in df.columns:\n",
        "        df[column] = get_optimized_column(df[column]) \n",
        "    end_mem = df.memory_usage().sum() / 1024**2\n",
        "    if verbose: print('Mem. usage decreased to {:5.2f} Mb ({:.1f}% reduction)'.format(end_mem, 100 * (start_mem - end_mem) / start_mem))\n",
        "    return df"
      ],
      "execution_count": 0,
      "outputs": []
    },
    {
      "cell_type": "code",
      "metadata": {
        "id": "u57E3doS4aCj",
        "colab_type": "code",
        "outputId": "a289cf45-3c73-42e3-85b2-999353cafde8",
        "colab": {
          "base_uri": "https://localhost:8080/",
          "height": 238
        }
      },
      "source": [
        "train_dataset = pd.read_csv(train_file_path, skiprows=2)\n",
        "test_dataset = pd.read_csv(test_file_path, skiprows=2)\n",
        "\n",
        "target_labels = {'BRICKFACE': 0, 'SKY': 1, 'FOLIAGE': 2, 'CEMENT': 3, 'WINDOW': 4, 'PATH': 5, 'GRASS': 6}\n",
        "# 0 = Brickface - 1 = Sky - 2 = Foliage \n",
        "# 3 = Cement - 4 = Window - 5 = Path - 6 = Grass\n",
        "\n",
        "Y_train = train_dataset.index.map(lambda v: target_labels[v])\n",
        "Y_test = test_dataset.index.map(lambda v: target_labels[v])\n",
        "\n",
        "train_dataset.head()"
      ],
      "execution_count": 0,
      "outputs": [
        {
          "output_type": "execute_result",
          "data": {
            "text/html": [
              "<div>\n",
              "<style scoped>\n",
              "    .dataframe tbody tr th:only-of-type {\n",
              "        vertical-align: middle;\n",
              "    }\n",
              "\n",
              "    .dataframe tbody tr th {\n",
              "        vertical-align: top;\n",
              "    }\n",
              "\n",
              "    .dataframe thead th {\n",
              "        text-align: right;\n",
              "    }\n",
              "</style>\n",
              "<table border=\"1\" class=\"dataframe\">\n",
              "  <thead>\n",
              "    <tr style=\"text-align: right;\">\n",
              "      <th></th>\n",
              "      <th>REGION-CENTROID-COL</th>\n",
              "      <th>REGION-CENTROID-ROW</th>\n",
              "      <th>REGION-PIXEL-COUNT</th>\n",
              "      <th>SHORT-LINE-DENSITY-5</th>\n",
              "      <th>SHORT-LINE-DENSITY-2</th>\n",
              "      <th>VEDGE-MEAN</th>\n",
              "      <th>VEDGE-SD</th>\n",
              "      <th>HEDGE-MEAN</th>\n",
              "      <th>HEDGE-SD</th>\n",
              "      <th>INTENSITY-MEAN</th>\n",
              "      <th>RAWRED-MEAN</th>\n",
              "      <th>RAWBLUE-MEAN</th>\n",
              "      <th>RAWGREEN-MEAN</th>\n",
              "      <th>EXRED-MEAN</th>\n",
              "      <th>EXBLUE-MEAN</th>\n",
              "      <th>EXGREEN-MEAN</th>\n",
              "      <th>VALUE-MEAN</th>\n",
              "      <th>SATURATION-MEAN</th>\n",
              "      <th>HUE-MEAN</th>\n",
              "    </tr>\n",
              "  </thead>\n",
              "  <tbody>\n",
              "    <tr>\n",
              "      <th>BRICKFACE</th>\n",
              "      <td>140.0</td>\n",
              "      <td>125.0</td>\n",
              "      <td>9</td>\n",
              "      <td>0.0</td>\n",
              "      <td>0.0</td>\n",
              "      <td>0.277778</td>\n",
              "      <td>0.062963</td>\n",
              "      <td>0.666667</td>\n",
              "      <td>0.311111</td>\n",
              "      <td>6.185185</td>\n",
              "      <td>7.333334</td>\n",
              "      <td>7.666666</td>\n",
              "      <td>3.555556</td>\n",
              "      <td>3.444444</td>\n",
              "      <td>4.444445</td>\n",
              "      <td>-7.888889</td>\n",
              "      <td>7.777778</td>\n",
              "      <td>0.545635</td>\n",
              "      <td>-1.121818</td>\n",
              "    </tr>\n",
              "    <tr>\n",
              "      <th>BRICKFACE</th>\n",
              "      <td>188.0</td>\n",
              "      <td>133.0</td>\n",
              "      <td>9</td>\n",
              "      <td>0.0</td>\n",
              "      <td>0.0</td>\n",
              "      <td>0.333333</td>\n",
              "      <td>0.266667</td>\n",
              "      <td>0.500000</td>\n",
              "      <td>0.077778</td>\n",
              "      <td>6.666666</td>\n",
              "      <td>8.333334</td>\n",
              "      <td>7.777778</td>\n",
              "      <td>3.888889</td>\n",
              "      <td>5.000000</td>\n",
              "      <td>3.333333</td>\n",
              "      <td>-8.333333</td>\n",
              "      <td>8.444445</td>\n",
              "      <td>0.538580</td>\n",
              "      <td>-0.924817</td>\n",
              "    </tr>\n",
              "    <tr>\n",
              "      <th>BRICKFACE</th>\n",
              "      <td>105.0</td>\n",
              "      <td>139.0</td>\n",
              "      <td>9</td>\n",
              "      <td>0.0</td>\n",
              "      <td>0.0</td>\n",
              "      <td>0.277778</td>\n",
              "      <td>0.107407</td>\n",
              "      <td>0.833333</td>\n",
              "      <td>0.522222</td>\n",
              "      <td>6.111111</td>\n",
              "      <td>7.555555</td>\n",
              "      <td>7.222222</td>\n",
              "      <td>3.555556</td>\n",
              "      <td>4.333334</td>\n",
              "      <td>3.333333</td>\n",
              "      <td>-7.666666</td>\n",
              "      <td>7.555555</td>\n",
              "      <td>0.532628</td>\n",
              "      <td>-0.965946</td>\n",
              "    </tr>\n",
              "    <tr>\n",
              "      <th>BRICKFACE</th>\n",
              "      <td>34.0</td>\n",
              "      <td>137.0</td>\n",
              "      <td>9</td>\n",
              "      <td>0.0</td>\n",
              "      <td>0.0</td>\n",
              "      <td>0.500000</td>\n",
              "      <td>0.166667</td>\n",
              "      <td>1.111111</td>\n",
              "      <td>0.474074</td>\n",
              "      <td>5.851852</td>\n",
              "      <td>7.777778</td>\n",
              "      <td>6.444445</td>\n",
              "      <td>3.333333</td>\n",
              "      <td>5.777778</td>\n",
              "      <td>1.777778</td>\n",
              "      <td>-7.555555</td>\n",
              "      <td>7.777778</td>\n",
              "      <td>0.573633</td>\n",
              "      <td>-0.744272</td>\n",
              "    </tr>\n",
              "    <tr>\n",
              "      <th>BRICKFACE</th>\n",
              "      <td>39.0</td>\n",
              "      <td>111.0</td>\n",
              "      <td>9</td>\n",
              "      <td>0.0</td>\n",
              "      <td>0.0</td>\n",
              "      <td>0.722222</td>\n",
              "      <td>0.374074</td>\n",
              "      <td>0.888889</td>\n",
              "      <td>0.429629</td>\n",
              "      <td>6.037037</td>\n",
              "      <td>7.000000</td>\n",
              "      <td>7.666666</td>\n",
              "      <td>3.444444</td>\n",
              "      <td>2.888889</td>\n",
              "      <td>4.888889</td>\n",
              "      <td>-7.777778</td>\n",
              "      <td>7.888889</td>\n",
              "      <td>0.562919</td>\n",
              "      <td>-1.175773</td>\n",
              "    </tr>\n",
              "  </tbody>\n",
              "</table>\n",
              "</div>"
            ],
            "text/plain": [
              "           REGION-CENTROID-COL  REGION-CENTROID-ROW  ...  SATURATION-MEAN  HUE-MEAN\n",
              "BRICKFACE                140.0                125.0  ...         0.545635 -1.121818\n",
              "BRICKFACE                188.0                133.0  ...         0.538580 -0.924817\n",
              "BRICKFACE                105.0                139.0  ...         0.532628 -0.965946\n",
              "BRICKFACE                 34.0                137.0  ...         0.573633 -0.744272\n",
              "BRICKFACE                 39.0                111.0  ...         0.562919 -1.175773\n",
              "\n",
              "[5 rows x 19 columns]"
            ]
          },
          "metadata": {
            "tags": []
          },
          "execution_count": 53
        }
      ]
    },
    {
      "cell_type": "code",
      "metadata": {
        "id": "fAMlkJazHprX",
        "colab_type": "code",
        "outputId": "d972f76d-ed50-4f48-bfb9-3140a3b00206",
        "colab": {
          "base_uri": "https://localhost:8080/",
          "height": 85
        }
      },
      "source": [
        "Y_test"
      ],
      "execution_count": 0,
      "outputs": [
        {
          "output_type": "execute_result",
          "data": {
            "text/plain": [
              "Int64Index([6, 6, 6, 6, 6, 6, 6, 6, 6, 6,\n",
              "            ...\n",
              "            4, 4, 4, 3, 3, 3, 3, 3, 3, 3],\n",
              "           dtype='int64', length=2100)"
            ]
          },
          "metadata": {
            "tags": []
          },
          "execution_count": 54
        }
      ]
    },
    {
      "cell_type": "code",
      "metadata": {
        "id": "sDny0xx-5gQm",
        "colab_type": "code",
        "outputId": "c986e187-4980-420a-b530-f3fdc17e63d6",
        "colab": {
          "base_uri": "https://localhost:8080/",
          "height": 297
        }
      },
      "source": [
        "shape_view = train_dataset.drop(labels=['REGION-PIXEL-COUNT'], axis=1).columns[:8]\n",
        "rgb_view = train_dataset.columns[10:]\n",
        "\n",
        "scaler = Normalizer()\n",
        "\n",
        "columns = train_dataset.columns\n",
        "\n",
        "train_dataset = scaler.fit_transform(train_dataset)\n",
        "test_dataset = scaler.fit_transform(test_dataset)\n",
        "\n",
        "train_dataset = pd.DataFrame(train_dataset, columns=columns)\n",
        "test_dataset = pd.DataFrame(test_dataset, columns=columns)\n",
        "\n",
        "train_dataset[shape_view].describe()"
      ],
      "execution_count": 0,
      "outputs": [
        {
          "output_type": "execute_result",
          "data": {
            "text/html": [
              "<div>\n",
              "<style scoped>\n",
              "    .dataframe tbody tr th:only-of-type {\n",
              "        vertical-align: middle;\n",
              "    }\n",
              "\n",
              "    .dataframe tbody tr th {\n",
              "        vertical-align: top;\n",
              "    }\n",
              "\n",
              "    .dataframe thead th {\n",
              "        text-align: right;\n",
              "    }\n",
              "</style>\n",
              "<table border=\"1\" class=\"dataframe\">\n",
              "  <thead>\n",
              "    <tr style=\"text-align: right;\">\n",
              "      <th></th>\n",
              "      <th>REGION-CENTROID-COL</th>\n",
              "      <th>REGION-CENTROID-ROW</th>\n",
              "      <th>SHORT-LINE-DENSITY-5</th>\n",
              "      <th>SHORT-LINE-DENSITY-2</th>\n",
              "      <th>VEDGE-MEAN</th>\n",
              "      <th>VEDGE-SD</th>\n",
              "      <th>HEDGE-MEAN</th>\n",
              "      <th>HEDGE-SD</th>\n",
              "    </tr>\n",
              "  </thead>\n",
              "  <tbody>\n",
              "    <tr>\n",
              "      <th>count</th>\n",
              "      <td>210.000000</td>\n",
              "      <td>210.000000</td>\n",
              "      <td>210.000000</td>\n",
              "      <td>210.000000</td>\n",
              "      <td>210.000000</td>\n",
              "      <td>210.000000</td>\n",
              "      <td>210.000000</td>\n",
              "      <td>210.000000</td>\n",
              "    </tr>\n",
              "    <tr>\n",
              "      <th>mean</th>\n",
              "      <td>0.524150</td>\n",
              "      <td>0.581326</td>\n",
              "      <td>0.000040</td>\n",
              "      <td>0.000030</td>\n",
              "      <td>0.008880</td>\n",
              "      <td>0.014086</td>\n",
              "      <td>0.011711</td>\n",
              "      <td>0.026778</td>\n",
              "    </tr>\n",
              "    <tr>\n",
              "      <th>std</th>\n",
              "      <td>0.261908</td>\n",
              "      <td>0.274528</td>\n",
              "      <td>0.000153</td>\n",
              "      <td>0.000154</td>\n",
              "      <td>0.014200</td>\n",
              "      <td>0.059748</td>\n",
              "      <td>0.020389</td>\n",
              "      <td>0.100745</td>\n",
              "    </tr>\n",
              "    <tr>\n",
              "      <th>min</th>\n",
              "      <td>0.002831</td>\n",
              "      <td>0.031598</td>\n",
              "      <td>0.000000</td>\n",
              "      <td>0.000000</td>\n",
              "      <td>0.000000</td>\n",
              "      <td>0.000000</td>\n",
              "      <td>0.000000</td>\n",
              "      <td>0.000000</td>\n",
              "    </tr>\n",
              "    <tr>\n",
              "      <th>25%</th>\n",
              "      <td>0.308704</td>\n",
              "      <td>0.404260</td>\n",
              "      <td>0.000000</td>\n",
              "      <td>0.000000</td>\n",
              "      <td>0.003074</td>\n",
              "      <td>0.001633</td>\n",
              "      <td>0.003465</td>\n",
              "      <td>0.002124</td>\n",
              "    </tr>\n",
              "    <tr>\n",
              "      <th>50%</th>\n",
              "      <td>0.557772</td>\n",
              "      <td>0.622058</td>\n",
              "      <td>0.000000</td>\n",
              "      <td>0.000000</td>\n",
              "      <td>0.005369</td>\n",
              "      <td>0.003348</td>\n",
              "      <td>0.006493</td>\n",
              "      <td>0.003968</td>\n",
              "    </tr>\n",
              "    <tr>\n",
              "      <th>75%</th>\n",
              "      <td>0.744924</td>\n",
              "      <td>0.802862</td>\n",
              "      <td>0.000000</td>\n",
              "      <td>0.000000</td>\n",
              "      <td>0.009710</td>\n",
              "      <td>0.008554</td>\n",
              "      <td>0.011354</td>\n",
              "      <td>0.008847</td>\n",
              "    </tr>\n",
              "    <tr>\n",
              "      <th>max</th>\n",
              "      <td>0.987085</td>\n",
              "      <td>0.997188</td>\n",
              "      <td>0.001228</td>\n",
              "      <td>0.001232</td>\n",
              "      <td>0.144189</td>\n",
              "      <td>0.757185</td>\n",
              "      <td>0.159495</td>\n",
              "      <td>0.915415</td>\n",
              "    </tr>\n",
              "  </tbody>\n",
              "</table>\n",
              "</div>"
            ],
            "text/plain": [
              "       REGION-CENTROID-COL  REGION-CENTROID-ROW  ...  HEDGE-MEAN    HEDGE-SD\n",
              "count           210.000000           210.000000  ...  210.000000  210.000000\n",
              "mean              0.524150             0.581326  ...    0.011711    0.026778\n",
              "std               0.261908             0.274528  ...    0.020389    0.100745\n",
              "min               0.002831             0.031598  ...    0.000000    0.000000\n",
              "25%               0.308704             0.404260  ...    0.003465    0.002124\n",
              "50%               0.557772             0.622058  ...    0.006493    0.003968\n",
              "75%               0.744924             0.802862  ...    0.011354    0.008847\n",
              "max               0.987085             0.997188  ...    0.159495    0.915415\n",
              "\n",
              "[8 rows x 8 columns]"
            ]
          },
          "metadata": {
            "tags": []
          },
          "execution_count": 55
        }
      ]
    },
    {
      "cell_type": "code",
      "metadata": {
        "id": "5aBluPZS-1qs",
        "colab_type": "code",
        "outputId": "f286e0c3-7e33-455a-b9a6-eac956bca514",
        "colab": {
          "base_uri": "https://localhost:8080/",
          "height": 297
        }
      },
      "source": [
        "train_dataset[rgb_view].describe()"
      ],
      "execution_count": 0,
      "outputs": [
        {
          "output_type": "execute_result",
          "data": {
            "text/html": [
              "<div>\n",
              "<style scoped>\n",
              "    .dataframe tbody tr th:only-of-type {\n",
              "        vertical-align: middle;\n",
              "    }\n",
              "\n",
              "    .dataframe tbody tr th {\n",
              "        vertical-align: top;\n",
              "    }\n",
              "\n",
              "    .dataframe thead th {\n",
              "        text-align: right;\n",
              "    }\n",
              "</style>\n",
              "<table border=\"1\" class=\"dataframe\">\n",
              "  <thead>\n",
              "    <tr style=\"text-align: right;\">\n",
              "      <th></th>\n",
              "      <th>RAWRED-MEAN</th>\n",
              "      <th>RAWBLUE-MEAN</th>\n",
              "      <th>RAWGREEN-MEAN</th>\n",
              "      <th>EXRED-MEAN</th>\n",
              "      <th>EXBLUE-MEAN</th>\n",
              "      <th>EXGREEN-MEAN</th>\n",
              "      <th>VALUE-MEAN</th>\n",
              "      <th>SATURATION-MEAN</th>\n",
              "      <th>HUE-MEAN</th>\n",
              "    </tr>\n",
              "  </thead>\n",
              "  <tbody>\n",
              "    <tr>\n",
              "      <th>count</th>\n",
              "      <td>210.000000</td>\n",
              "      <td>210.000000</td>\n",
              "      <td>210.000000</td>\n",
              "      <td>210.000000</td>\n",
              "      <td>210.000000</td>\n",
              "      <td>210.000000</td>\n",
              "      <td>210.000000</td>\n",
              "      <td>210.000000</td>\n",
              "      <td>210.000000</td>\n",
              "    </tr>\n",
              "    <tr>\n",
              "      <th>mean</th>\n",
              "      <td>0.129320</td>\n",
              "      <td>0.176306</td>\n",
              "      <td>0.132406</td>\n",
              "      <td>-0.050072</td>\n",
              "      <td>0.090886</td>\n",
              "      <td>-0.040814</td>\n",
              "      <td>0.179941</td>\n",
              "      <td>0.002286</td>\n",
              "      <td>-0.006944</td>\n",
              "    </tr>\n",
              "    <tr>\n",
              "      <th>std</th>\n",
              "      <td>0.116456</td>\n",
              "      <td>0.145075</td>\n",
              "      <td>0.119494</td>\n",
              "      <td>0.043971</td>\n",
              "      <td>0.074716</td>\n",
              "      <td>0.051690</td>\n",
              "      <td>0.142337</td>\n",
              "      <td>0.001923</td>\n",
              "      <td>0.007825</td>\n",
              "    </tr>\n",
              "    <tr>\n",
              "      <th>min</th>\n",
              "      <td>0.000000</td>\n",
              "      <td>0.000000</td>\n",
              "      <td>0.000000</td>\n",
              "      <td>-0.166586</td>\n",
              "      <td>-0.047497</td>\n",
              "      <td>-0.220147</td>\n",
              "      <td>0.000000</td>\n",
              "      <td>0.000000</td>\n",
              "      <td>-0.025363</td>\n",
              "    </tr>\n",
              "    <tr>\n",
              "      <th>25%</th>\n",
              "      <td>0.033627</td>\n",
              "      <td>0.047730</td>\n",
              "      <td>0.023767</td>\n",
              "      <td>-0.072857</td>\n",
              "      <td>0.022581</td>\n",
              "      <td>-0.071162</td>\n",
              "      <td>0.054583</td>\n",
              "      <td>0.001040</td>\n",
              "      <td>-0.011004</td>\n",
              "    </tr>\n",
              "    <tr>\n",
              "      <th>50%</th>\n",
              "      <td>0.106704</td>\n",
              "      <td>0.164182</td>\n",
              "      <td>0.108528</td>\n",
              "      <td>-0.047044</td>\n",
              "      <td>0.093075</td>\n",
              "      <td>-0.043612</td>\n",
              "      <td>0.166573</td>\n",
              "      <td>0.001669</td>\n",
              "      <td>-0.007983</td>\n",
              "    </tr>\n",
              "    <tr>\n",
              "      <th>75%</th>\n",
              "      <td>0.193240</td>\n",
              "      <td>0.268553</td>\n",
              "      <td>0.187544</td>\n",
              "      <td>-0.020627</td>\n",
              "      <td>0.143645</td>\n",
              "      <td>-0.017092</td>\n",
              "      <td>0.268553</td>\n",
              "      <td>0.002953</td>\n",
              "      <td>-0.006317</td>\n",
              "    </tr>\n",
              "    <tr>\n",
              "      <th>max</th>\n",
              "      <td>0.420972</td>\n",
              "      <td>0.479559</td>\n",
              "      <td>0.426234</td>\n",
              "      <td>0.040542</td>\n",
              "      <td>0.281210</td>\n",
              "      <td>0.086302</td>\n",
              "      <td>0.479559</td>\n",
              "      <td>0.009850</td>\n",
              "      <td>0.013759</td>\n",
              "    </tr>\n",
              "  </tbody>\n",
              "</table>\n",
              "</div>"
            ],
            "text/plain": [
              "       RAWRED-MEAN  RAWBLUE-MEAN  ...  SATURATION-MEAN    HUE-MEAN\n",
              "count   210.000000    210.000000  ...       210.000000  210.000000\n",
              "mean      0.129320      0.176306  ...         0.002286   -0.006944\n",
              "std       0.116456      0.145075  ...         0.001923    0.007825\n",
              "min       0.000000      0.000000  ...         0.000000   -0.025363\n",
              "25%       0.033627      0.047730  ...         0.001040   -0.011004\n",
              "50%       0.106704      0.164182  ...         0.001669   -0.007983\n",
              "75%       0.193240      0.268553  ...         0.002953   -0.006317\n",
              "max       0.420972      0.479559  ...         0.009850    0.013759\n",
              "\n",
              "[8 rows x 9 columns]"
            ]
          },
          "metadata": {
            "tags": []
          },
          "execution_count": 56
        }
      ]
    },
    {
      "cell_type": "markdown",
      "metadata": {
        "id": "B0PjwaZJtZ7Z",
        "colab_type": "text"
      },
      "source": [
        "# knn"
      ]
    },
    {
      "cell_type": "code",
      "metadata": {
        "id": "115p8JKU8eyD",
        "colab_type": "code",
        "outputId": "5f710241-b6b4-4be4-df04-325b0ab9157f",
        "colab": {
          "base_uri": "https://localhost:8080/",
          "height": 323
        }
      },
      "source": [
        "parameters = {'n_neighbors': np.arange(1,10)} \n",
        "\n",
        "knn = KNeighborsClassifier(p=2)\n",
        "\n",
        "kfold = RepeatedStratifiedKFold(n_splits=10, n_repeats=30)\n",
        "\n",
        "X_shape = reduce_mem_usage(train_dataset[shape_view])\n",
        "X_rgb = reduce_mem_usage(train_dataset[rgb_view])\n",
        "\n",
        "grid_shape = GridSearchCV(knn, parameters, cv=kfold, scoring='accuracy')\n",
        "grid_shape.fit(X_shape, Y_train)\n",
        "grid_rgb = GridSearchCV(knn, parameters, cv=kfold, scoring='accuracy')\n",
        "grid_rgb.fit(X_rgb, Y_train)"
      ],
      "execution_count": 0,
      "outputs": [
        {
          "output_type": "stream",
          "text": [
            "/usr/local/lib/python3.6/dist-packages/ipykernel_launcher.py:17: SettingWithCopyWarning: \n",
            "A value is trying to be set on a copy of a slice from a DataFrame.\n",
            "Try using .loc[row_indexer,col_indexer] = value instead\n",
            "\n",
            "See the caveats in the documentation: http://pandas.pydata.org/pandas-docs/stable/user_guide/indexing.html#returning-a-view-versus-a-copy\n"
          ],
          "name": "stderr"
        },
        {
          "output_type": "stream",
          "text": [
            "Mem. usage decreased to  0.01 Mb (0.0% reduction)\n",
            "Mem. usage decreased to  0.01 Mb (0.0% reduction)\n"
          ],
          "name": "stdout"
        },
        {
          "output_type": "execute_result",
          "data": {
            "text/plain": [
              "GridSearchCV(cv=<sklearn.model_selection._split.RepeatedStratifiedKFold object at 0x7f28eea01ef0>,\n",
              "             error_score='raise-deprecating',\n",
              "             estimator=KNeighborsClassifier(algorithm='auto', leaf_size=30,\n",
              "                                            metric='minkowski',\n",
              "                                            metric_params=None, n_jobs=None,\n",
              "                                            n_neighbors=5, p=2,\n",
              "                                            weights='uniform'),\n",
              "             iid='warn', n_jobs=None,\n",
              "             param_grid={'n_neighbors': array([1, 2, 3, 4, 5, 6, 7, 8, 9])},\n",
              "             pre_dispatch='2*n_jobs', refit=True, return_train_score=False,\n",
              "             scoring='accuracy', verbose=0)"
            ]
          },
          "metadata": {
            "tags": []
          },
          "execution_count": 57
        }
      ]
    },
    {
      "cell_type": "code",
      "metadata": {
        "id": "NbXWf560IhLM",
        "colab_type": "code",
        "outputId": "ece1b1a8-ae2b-43bd-dd82-f35527ec0fc8",
        "colab": {
          "base_uri": "https://localhost:8080/",
          "height": 85
        }
      },
      "source": [
        "#-----------------Predictions Functions--------------\n",
        "best_knn_for_shape = grid_shape.best_estimator_\n",
        "best_knn_for_rgb = grid_rgb.best_estimator_\n",
        "\n",
        "#Test predict (using train dataset)\n",
        "Y_pred_shape = best_knn_for_shape.predict(X_shape)\n",
        "Y_pred_rgb = best_knn_for_rgb.predict(X_rgb)\n",
        "\n",
        "Shape_test = reduce_mem_usage(test_dataset[shape_view])\n",
        "Rgb_test = reduce_mem_usage(test_dataset[rgb_view])\n",
        "\n",
        "Shape_score = best_knn_for_shape.score(Shape_test, Y_test)\n",
        "Rgb_score = best_knn_for_rgb.score(Rgb_test, Y_test)\n",
        "\n",
        "print(Shape_score)\n",
        "print(Rgb_score)\n",
        "print('SHAPE', grid_shape.best_params_)\n",
        "print('RGB', grid_rgb.best_params_)\n",
        "\n",
        "\n",
        "Shape_pred = best_knn_for_shape.predict(Shape_test)\n",
        "Rgb_pred = best_knn_for_rgb.predict(Rgb_test)"
      ],
      "execution_count": 0,
      "outputs": [
        {
          "output_type": "stream",
          "text": [
            "0.5057142857142857\n",
            "0.8633333333333333\n",
            "SHAPE {'n_neighbors': 6}\n",
            "RGB {'n_neighbors': 1}\n"
          ],
          "name": "stdout"
        }
      ]
    },
    {
      "cell_type": "code",
      "metadata": {
        "id": "QSkAkOiQE1r7",
        "colab_type": "code",
        "outputId": "f77606f4-a411-4a7a-8cdc-3f8cc48d54a6",
        "colab": {
          "base_uri": "https://localhost:8080/",
          "height": 1000
        }
      },
      "source": [
        "#-------------Confusion Matrix SHAPE---------------------\n",
        "\n",
        "conf_matrix_shape = confusion_matrix(Y_test, Shape_pred)\n",
        "print(\"Confusion Matrix for shape:\\n\")\n",
        "df_cm_shape = pd.DataFrame(conf_matrix_shape, index = [i for i in \"1234567\"],\n",
        "                      columns = [i for i in \"1234567\"])\n",
        "plt.figure(figsize = (10,6))\n",
        "sns.set(font_scale=0.8)\n",
        "subplot = sns.heatmap(df_cm_shape, annot=True,annot_kws={\"size\": 12})# font size\n",
        "subplot.set_ylim(7, 0)\n",
        "plt.show()\n",
        "#------------Accuracy Score SHAPE------------------------\n",
        "print(\"\\n\\nAccuracy Score Shape: \", (accuracy_score(Y_test, Shape_pred)))\n",
        "print(\"\\nClassification Report SHAPE:\\n\", (classification_report(Y_test, Shape_pred)))\n",
        "\n",
        "# #-------------Confusion Matrix RGB---------------------\n",
        "conf_matrix_rgb = confusion_matrix(Y_test, Rgb_pred)\n",
        "print(\"\\n\\nConfusion Matrix for RGB:\\n\")\n",
        "df_cm_rgb = pd.DataFrame(conf_matrix_rgb, index = [i for i in \"1234567\"],\n",
        "                      columns = [i for i in \"1234567\"])\n",
        "plt.figure(figsize = (10,6))\n",
        "sns.set(font_scale=0.8)\n",
        "subplot = sns.heatmap(df_cm_rgb, annot=True,annot_kws={\"size\": 12})# font size\n",
        "subplot.set_ylim(7, 0)\n",
        "plt.show()\n",
        "\n",
        "# #------------Accuracy Score RGB------------------------\n",
        "print(\"Accuracy Score RGB: \", (accuracy_score(Y_test, Rgb_pred)))\n",
        "print(\"\\nClassification Report RGB:\\n\", (classification_report(Y_test, Rgb_pred)))"
      ],
      "execution_count": 0,
      "outputs": [
        {
          "output_type": "stream",
          "text": [
            "Confusion Matrix for shape:\n",
            "\n"
          ],
          "name": "stdout"
        },
        {
          "output_type": "display_data",
          "data": {
            "image/png": "[encoded data removed]",
            "text/plain": [
              "<Figure size 720x432 with 2 Axes>"
            ]
          },
          "metadata": {
            "tags": []
          }
        },
        {
          "output_type": "stream",
          "text": [
            "\n",
            "\n",
            "Accuracy Score Shape:  0.5057142857142857\n",
            "\n",
            "Classification Report SHAPE:\n",
            "               precision    recall  f1-score   support\n",
            "\n",
            "           0       0.25      0.30      0.27       300\n",
            "           1       0.85      0.98      0.91       300\n",
            "           2       0.39      0.38      0.38       300\n",
            "           3       0.55      0.31      0.40       300\n",
            "           4       0.56      0.48      0.52       300\n",
            "           5       0.54      0.73      0.62       300\n",
            "           6       0.40      0.36      0.38       300\n",
            "\n",
            "    accuracy                           0.51      2100\n",
            "   macro avg       0.50      0.51      0.50      2100\n",
            "weighted avg       0.50      0.51      0.50      2100\n",
            "\n",
            "\n",
            "\n",
            "Confusion Matrix for RGB:\n",
            "\n"
          ],
          "name": "stdout"
        },
        {
          "output_type": "display_data",
          "data": {
            "image/png": "[encoded data removed]",
            "text/plain": [
              "<Figure size 720x432 with 2 Axes>"
            ]
          },
          "metadata": {
            "tags": []
          }
        },
        {
          "output_type": "stream",
          "text": [
            "Accuracy Score RGB:  0.8633333333333333\n",
            "\n",
            "Classification Report RGB:\n",
            "               precision    recall  f1-score   support\n",
            "\n",
            "           0       0.98      0.99      0.98       300\n",
            "           1       0.93      0.98      0.96       300\n",
            "           2       0.84      0.80      0.82       300\n",
            "           3       0.75      0.64      0.69       300\n",
            "           4       0.76      0.74      0.75       300\n",
            "           5       0.78      0.90      0.84       300\n",
            "           6       1.00      0.99      0.99       300\n",
            "\n",
            "    accuracy                           0.86      2100\n",
            "   macro avg       0.86      0.86      0.86      2100\n",
            "weighted avg       0.86      0.86      0.86      2100\n",
            "\n"
          ],
          "name": "stdout"
        }
      ]
    },
    {
      "cell_type": "code",
      "metadata": {
        "id": "dvEK0dTKEkA6",
        "colab_type": "code",
        "colab": {}
      },
      "source": [
        "class CombinedClassifiers:\n",
        "  \"\"\"\n",
        "  Classe que combina dois classificadores correspondentes a duas views do dataset\n",
        "  \"\"\"\n",
        "  def __init__(self, first_clf, second_clf, first_view, second_view, L, p_w):\n",
        "    self.first_clf = first_clf\n",
        "    self.second_clf = second_clf\n",
        "    self.first_view = first_view\n",
        "    self.second_view = second_view\n",
        "    self.L = L\n",
        "    self.p_w = p_w\n",
        "\n",
        "  def predict(self, X_dataset):\n",
        "    predict_fst = self.first_clf.predict_proba(X_dataset[self.first_view])\n",
        "    predict_snd = self.second_clf.predict_proba(X_dataset[self.second_view])\n",
        "\n",
        "    predictions = []\n",
        "    for post_fst, post_snd in zip(predict_fst, predict_snd):\n",
        "      classes = (1-self.L) * self.p_w + post_fst + post_snd\n",
        "      predictions.append(np.argmax(classes))\n",
        "\n",
        "    return predictions\n",
        "\n",
        "  def predict_proba(self, X_dataset):\n",
        "    predict_fst = self.first_clf.predict_proba(X_dataset[self.first_view])\n",
        "    predict_snd = self.second_clf.predict_proba(X_dataset[self.second_view])\n",
        "\n",
        "    predictions = []\n",
        "    for post_fst, post_snd in zip(predict_fst, predict_snd):\n",
        "      classes = (1-self.L) * self.p_w + post_fst + post_snd\n",
        "      predictions.append(classes)\n",
        "\n",
        "    return predictions    "
      ],
      "execution_count": 0,
      "outputs": []
    },
    {
      "cell_type": "code",
      "metadata": {
        "id": "ujXg1-hvyGV0",
        "colab_type": "code",
        "colab": {}
      },
      "source": [
        "p_w = [0, 0, 0, 0, 0, 0, 0]\n",
        "for v in Y_test:\n",
        "  p_w[v] += 1\n",
        "\n",
        "for i in range(len(p_w)):\n",
        "  p_w[i] /= len(Y_test)  \n",
        "\n",
        "p_w = np.array(p_w)\n",
        "combined = CombinedClassifiers(best_knn_for_shape, best_knn_for_rgb, shape_view, rgb_view, 2, p_w)"
      ],
      "execution_count": 0,
      "outputs": []
    },
    {
      "cell_type": "code",
      "metadata": {
        "id": "49q7F1AC0W3i",
        "colab_type": "code",
        "colab": {}
      },
      "source": [
        "total_pred = combined.predict(test_dataset)"
      ],
      "execution_count": 0,
      "outputs": []
    },
    {
      "cell_type": "code",
      "metadata": {
        "id": "v5orAY2yEjaa",
        "colab_type": "code",
        "colab": {}
      },
      "source": [
        "total_pred_proba = combined.predict_proba(test_dataset)"
      ],
      "execution_count": 0,
      "outputs": []
    },
    {
      "cell_type": "code",
      "metadata": {
        "id": "GC3sSDJZ0pIw",
        "colab_type": "code",
        "outputId": "a84eab5d-9459-487c-8194-2e617978cab1",
        "colab": {
          "base_uri": "https://localhost:8080/",
          "height": 733
        }
      },
      "source": [
        "#-------------Confusion Matrix COMBINED---------------------\n",
        "\n",
        "conf_matrix_comb = confusion_matrix(Y_test, total_pred)\n",
        "print(\"Confusion Matrix for Combined:\\n\")\n",
        "df_cm_shape = pd.DataFrame(conf_matrix_comb, index = [i for i in \"1234567\"],\n",
        "                      columns = [i for i in \"1234567\"])\n",
        "plt.figure(figsize = (10,6))\n",
        "sns.set(font_scale=0.8)\n",
        "subplot = sns.heatmap(df_cm_shape, annot=True,annot_kws={\"size\": 12})# font size\n",
        "subplot.set_ylim(7, 0)\n",
        "plt.show()\n",
        "#------------Accuracy Score COMBINED------------------------\n",
        "print(\"\\n\\nAccuracy Score Combined: \", (accuracy_score(Y_test, total_pred)))\n",
        "print(\"\\nClassification Report COMBINED:\\n\", (classification_report(Y_test, total_pred)))"
      ],
      "execution_count": 0,
      "outputs": [
        {
          "output_type": "stream",
          "text": [
            "Confusion Matrix for Combined:\n",
            "\n"
          ],
          "name": "stdout"
        },
        {
          "output_type": "display_data",
          "data": {
            "image/png": "[encoded data removed]",
            "text/plain": [
              "<Figure size 720x432 with 2 Axes>"
            ]
          },
          "metadata": {
            "tags": []
          }
        },
        {
          "output_type": "stream",
          "text": [
            "\n",
            "\n",
            "Accuracy Score Combined:  0.8590476190476191\n",
            "\n",
            "Classification Report COMBINED:\n",
            "               precision    recall  f1-score   support\n",
            "\n",
            "           0       0.98      0.99      0.98       300\n",
            "           1       0.91      0.98      0.95       300\n",
            "           2       0.84      0.80      0.82       300\n",
            "           3       0.74      0.61      0.67       300\n",
            "           4       0.76      0.74      0.75       300\n",
            "           5       0.78      0.90      0.84       300\n",
            "           6       1.00      0.99      0.99       300\n",
            "\n",
            "    accuracy                           0.86      2100\n",
            "   macro avg       0.86      0.86      0.86      2100\n",
            "weighted avg       0.86      0.86      0.86      2100\n",
            "\n"
          ],
          "name": "stdout"
        }
      ]
    },
    {
      "cell_type": "markdown",
      "metadata": {
        "id": "NL3_UmsXtwYr",
        "colab_type": "text"
      },
      "source": [
        "# GaussianMLE"
      ]
    },
    {
      "cell_type": "code",
      "metadata": {
        "id": "TcEdzvOW00In",
        "colab_type": "code",
        "colab": {}
      },
      "source": [
        "import numpy as np\n",
        "\n",
        "from sklearn.base import BaseEstimator, ClassifierMixin\n",
        "\n",
        "epsilon = 1e-7\n",
        "\n",
        "class GaussianMLE(BaseEstimator, ClassifierMixin):\n",
        "  def __init__(self):\n",
        "    self.p_w_i = []\n",
        "    self.mi = []\n",
        "    self.sigma = []\n",
        "    self.inv_sigma = []\n",
        "    self.amplitudes = []\n",
        "\n",
        "  def fit(self, x_train, w_train):\n",
        "    x_train = np.array(x_train)\n",
        "    w_train = np.array(w_train)\n",
        "\n",
        "    # Cria grupos da mesma classe no dataset.\n",
        "    num_samples = len(w_train)\n",
        "    num_classes = len(np.unique(w_train))\n",
        "    x_groups = list(map(\n",
        "      lambda label_k:\n",
        "        np.array(\n",
        "          [x_train[i] for i in range(num_samples) if w_train[i] == label_k]\n",
        "        ),\n",
        "      range(num_classes),\n",
        "    ))\n",
        "\n",
        "    # Estima a probabilidade a priori para cada classe.\n",
        "    classes, counts = np.unique(w_train, return_counts=True)\n",
        "    num_classes = len(classes)\n",
        "    self.p_w_i = np.array(list(map(\n",
        "      lambda label_k: counts[label_k]/float(num_classes),\n",
        "      range(num_classes),\n",
        "    )))\n",
        "\n",
        "    # Estima a média e variancia diagonal para cada classe\n",
        "    self.mi = np.array(list(map(\n",
        "      lambda x_train_i: np.mean(x_train_i, axis=0),\n",
        "      x_groups,\n",
        "    )))\n",
        "\n",
        "    n = len(self.mi)\n",
        "    self.sigma = np.array(list(map(\n",
        "      lambda i: np.mean((x_groups[i] - self.mi[i])**2, axis=0) * 1/n,\n",
        "      range(len(x_groups)),\n",
        "    )))\n",
        "\n",
        "    # Pre-computa constantes.\n",
        "    pi_const = np.power(2*np.pi, n)\n",
        "    det_sigma = np.abs(np.product(self.sigma, axis=1))\n",
        "    self.inv_sigma = 1.0/(self.sigma + epsilon)\n",
        "    self.amplitudes = 1.0/(np.sqrt(pi_const * (det_sigma + epsilon)))\n",
        "\n",
        "    return self\n",
        "\n",
        "  def predict(self, x_set):\n",
        "    x_set = np.array(x_set)\n",
        "    def classify(x):\n",
        "      p_x_wi = self.compute_likelihoods(x)\n",
        "      return np.argmax(p_x_wi * self.p_w_i)\n",
        "\n",
        "    return np.array(list(map(classify, x_set)))\n",
        "\n",
        "  def compute_a_priori(self):\n",
        "    return self.p_w_i\n",
        "\n",
        "  def compute_a_posteriori(self, x):\n",
        "    \"\"\"\n",
        "    Computes the a posteriori probability p(wi|x) for each class wi, given by:\n",
        "      p(wi|x) = [p(x|wi)p(wi)] / sum_k(p(x|wk)p(wk))\n",
        "    \"\"\"\n",
        "    # Likelihood: p(x|wi).\n",
        "    p_x_wi = self.compute_likelihoods(x)\n",
        "    # A priori probability: p(wi).\n",
        "    p_wi = self.p_w_i\n",
        "    # Joint proability p(x && wi).\n",
        "    p_x_and_wi = p_x_wi * p_wi\n",
        "\n",
        "    return p_x_and_wi / np.sum(p_x_and_wi + epsilon)\n",
        "\n",
        "  def predict_proba(self, x_set):\n",
        "    x_set = np.array(x_set)\n",
        "    return np.array(list(map(self.compute_a_posteriori, x_set)))\n",
        "\n",
        "  def compute_likelihoods(self, x):\n",
        "    A = self.amplitudes\n",
        "    mi, sigma_inv = self.mi, self.inv_sigma\n",
        "    return A * np.exp(-0.5 * np.sum(sigma_inv * (x - mi)**2, axis=1))"
      ],
      "execution_count": 0,
      "outputs": []
    },
    {
      "cell_type": "markdown",
      "metadata": {
        "id": "yW0bTbl4xqZm",
        "colab_type": "text"
      },
      "source": [
        "**GaussianMLE Execução**"
      ]
    },
    {
      "cell_type": "code",
      "metadata": {
        "id": "B4fpMvn53S9W",
        "colab_type": "code",
        "colab": {}
      },
      "source": [
        "kfold = RepeatedStratifiedKFold(n_splits=10, n_repeats=30, random_state=42)\n",
        "\n",
        "shape_acc = 0.0\n",
        "shape_clf = None\n",
        "\n",
        "for train_index, test_index in kfold.split(X_shape, Y_train):\n",
        "  X_train, X_test = X_shape.iloc[train_index,:], X_shape.iloc[test_index,:]\n",
        "  y_train, y_test = Y_train[train_index], Y_train[test_index]\n",
        "  \n",
        "  g_mle_shape = GaussianMLE().fit(X_train, y_train)\n",
        "\n",
        "  predictions = g_mle_shape.predict(X_test)\n",
        "  accuracy = accuracy_score(y_test, predictions)\n",
        "\n",
        "  if accuracy > shape_acc:\n",
        "    shape_clf = g_mle_shape\n",
        "    shape_acc = accuracy\n",
        "\n",
        "rgb_acc = 0.0\n",
        "rgb_clf = None\n",
        "\n",
        "for train_index, test_index in kfold.split(X_rgb, Y_train):\n",
        "  X_train, X_test = X_rgb.iloc[train_index,:], X_rgb.iloc[test_index,:]\n",
        "  y_train, y_test = Y_train[train_index], Y_train[test_index]\n",
        "\n",
        "  g_mle_rgb = GaussianMLE().fit(X_train, y_train)\n",
        "\n",
        "  predictions = g_mle_rgb.predict(X_test)\n",
        "  accuracy = accuracy_score(y_test, predictions)\n",
        "\n",
        "  if accuracy > rgb_acc:\n",
        "    rgb_clf = g_mle_rgb\n",
        "    rgb_acc = accuracy\n",
        "  \n",
        "Y_pred_shape = shape_clf.predict(Shape_test)\n",
        "Y_pred_rgb = rgb_clf.predict(Rgb_test)"
      ],
      "execution_count": 0,
      "outputs": []
    },
    {
      "cell_type": "code",
      "metadata": {
        "id": "eRS-s_ky3aTX",
        "colab_type": "code",
        "outputId": "78d5047f-e4f2-45f0-c92d-6391a91fb902",
        "colab": {
          "base_uri": "https://localhost:8080/",
          "height": 1000
        }
      },
      "source": [
        "#-------------Confusion Matrix SHAPE---------------------\n",
        "\n",
        "conf_matrix_shape = confusion_matrix(Y_test, Y_pred_shape)\n",
        "print(\"Confusion Matrix for shape:\\n\")\n",
        "df_cm_shape = pd.DataFrame(conf_matrix_shape, index = [i for i in \"1234567\"],\n",
        "                      columns = [i for i in \"1234567\"])\n",
        "plt.figure(figsize = (10,6))\n",
        "sns.set(font_scale=0.8)\n",
        "sns.heatmap(df_cm_shape, annot=True,annot_kws={\"size\": 12})# font size\n",
        "subplot.set_ylim(7, 0)\n",
        "plt.show()\n",
        "#------------Accuracy Score SHAPE------------------------\n",
        "print(\"\\n\\nAccuracy Score Shape: \", (accuracy_score(Y_test, Y_pred_shape)))\n",
        "print(\"\\nClassification Report SHAPE:\\n\", (classification_report(Y_test, Y_pred_shape)))\n",
        " \n",
        "# #-------------Confusion Matrix RGB---------------------\n",
        "conf_matrix_rgb = confusion_matrix(Y_test, Y_pred_rgb)\n",
        "print(\"\\n\\nConfusion Matrix for RGB:\\n\")\n",
        "df_cm_rgb = pd.DataFrame(conf_matrix_rgb, index = [i for i in \"1234567\"],\n",
        "                      columns = [i for i in \"1234567\"])\n",
        "plt.figure(figsize = (10,6))\n",
        "sns.set(font_scale=0.8)\n",
        "sns.heatmap(df_cm_rgb, annot=True,annot_kws={\"size\": 12})# font size\n",
        "subplot.set_ylim(7, 0)\n",
        "plt.show()\n",
        "\n",
        "# #------------Accuracy Score RGB------------------------\n",
        "print(\"Accuracy Score RGB: \", (accuracy_score(Y_test, Y_pred_rgb)))\n",
        "print(\"\\nClassification Report RGB:\\n\", (classification_report(Y_test, Y_pred_rgb)))\n"
      ],
      "execution_count": 0,
      "outputs": [
        {
          "output_type": "stream",
          "text": [
            "Confusion Matrix for shape:\n",
            "\n"
          ],
          "name": "stdout"
        },
        {
          "output_type": "display_data",
          "data": {
            "image/png": "[encoded data removed]",
            "text/plain": [
              "<Figure size 720x432 with 2 Axes>"
            ]
          },
          "metadata": {
            "tags": []
          }
        },
        {
          "output_type": "stream",
          "text": [
            "\n",
            "\n",
            "Accuracy Score Shape:  0.35714285714285715\n",
            "\n",
            "Classification Report SHAPE:\n",
            "               precision    recall  f1-score   support\n",
            "\n",
            "           0       0.11      0.05      0.07       300\n",
            "           1       0.99      0.71      0.83       300\n",
            "           2       0.24      0.72      0.36       300\n",
            "           3       0.44      0.37      0.40       300\n",
            "           4       0.30      0.59      0.40       300\n",
            "           5       0.71      0.04      0.08       300\n",
            "           6       0.64      0.02      0.05       300\n",
            "\n",
            "    accuracy                           0.36      2100\n",
            "   macro avg       0.49      0.36      0.31      2100\n",
            "weighted avg       0.49      0.36      0.31      2100\n",
            "\n",
            "\n",
            "\n",
            "Confusion Matrix for RGB:\n",
            "\n"
          ],
          "name": "stdout"
        },
        {
          "output_type": "display_data",
          "data": {
            "image/png": "[encoded data removed]",
            "text/plain": [
              "<Figure size 720x432 with 2 Axes>"
            ]
          },
          "metadata": {
            "tags": []
          }
        },
        {
          "output_type": "stream",
          "text": [
            "Accuracy Score RGB:  0.72\n",
            "\n",
            "Classification Report RGB:\n",
            "               precision    recall  f1-score   support\n",
            "\n",
            "           0       0.92      0.85      0.88       300\n",
            "           1       0.96      0.89      0.92       300\n",
            "           2       0.62      0.77      0.69       300\n",
            "           3       0.44      0.77      0.56       300\n",
            "           4       0.62      0.59      0.60       300\n",
            "           5       0.84      0.20      0.33       300\n",
            "           6       1.00      0.97      0.99       300\n",
            "\n",
            "    accuracy                           0.72      2100\n",
            "   macro avg       0.77      0.72      0.71      2100\n",
            "weighted avg       0.77      0.72      0.71      2100\n",
            "\n"
          ],
          "name": "stdout"
        }
      ]
    },
    {
      "cell_type": "code",
      "metadata": {
        "id": "8CRuScTL41m3",
        "colab_type": "code",
        "colab": {}
      },
      "source": [
        "combinedGaussian = CombinedClassifiers(g_mle_shape, g_mle_rgb, shape_view, rgb_view, 2, p_w)"
      ],
      "execution_count": 0,
      "outputs": []
    },
    {
      "cell_type": "code",
      "metadata": {
        "id": "RYTrtXvp5BbM",
        "colab_type": "code",
        "colab": {}
      },
      "source": [
        "total_pred = combinedGaussian.predict(test_dataset)"
      ],
      "execution_count": 0,
      "outputs": []
    },
    {
      "cell_type": "code",
      "metadata": {
        "id": "qLesT1ky5IqE",
        "colab_type": "code",
        "outputId": "5342ed9f-5128-49a4-ac50-0f9b1abf2e29",
        "colab": {
          "base_uri": "https://localhost:8080/",
          "height": 733
        }
      },
      "source": [
        "#-------------Confusion Matrix COMBINED---------------------\n",
        "\n",
        "conf_matrix_comb = confusion_matrix(Y_test, total_pred)\n",
        "print(\"Confusion Matrix for Combined:\\n\")\n",
        "df_cm_shape = pd.DataFrame(conf_matrix_comb, index = [i for i in \"1234567\"],\n",
        "                      columns = [i for i in \"1234567\"])\n",
        "plt.figure(figsize = (10,6))\n",
        "sns.set(font_scale=0.8)\n",
        "subplot = sns.heatmap(df_cm_shape, annot=True,annot_kws={\"size\": 12})# font size\n",
        "subplot.set_ylim(7, 0)\n",
        "plt.show()\n",
        "#------------Accuracy Score COMBINED------------------------\n",
        "print(\"\\n\\nAccuracy Score Combined: \", (accuracy_score(Y_test, total_pred)))\n",
        "print(\"\\nClassification Report COMBINED:\\n\", (classification_report(Y_test, total_pred)))"
      ],
      "execution_count": 0,
      "outputs": [
        {
          "output_type": "stream",
          "text": [
            "Confusion Matrix for Combined:\n",
            "\n"
          ],
          "name": "stdout"
        },
        {
          "output_type": "display_data",
          "data": {
            "image/png": "[encoded data removed]",
            "text/plain": [
              "<Figure size 720x432 with 2 Axes>"
            ]
          },
          "metadata": {
            "tags": []
          }
        },
        {
          "output_type": "stream",
          "text": [
            "\n",
            "\n",
            "Accuracy Score Combined:  0.5052380952380953\n",
            "\n",
            "Classification Report COMBINED:\n",
            "               precision    recall  f1-score   support\n",
            "\n",
            "           0       0.70      0.26      0.38       300\n",
            "           1       0.99      0.73      0.84       300\n",
            "           2       0.32      0.74      0.45       300\n",
            "           3       0.39      0.58      0.47       300\n",
            "           4       0.40      0.57      0.47       300\n",
            "           5       0.90      0.14      0.25       300\n",
            "           6       0.98      0.50      0.67       300\n",
            "\n",
            "    accuracy                           0.51      2100\n",
            "   macro avg       0.67      0.51      0.50      2100\n",
            "weighted avg       0.67      0.51      0.50      2100\n",
            "\n"
          ],
          "name": "stdout"
        }
      ]
    },
    {
      "cell_type": "code",
      "metadata": {
        "id": "XFuTS3q651Bt",
        "colab_type": "code",
        "colab": {}
      },
      "source": [
        "total_pred_proba = combinedGaussian.predict_proba(test_dataset)"
      ],
      "execution_count": 0,
      "outputs": []
    },
    {
      "cell_type": "markdown",
      "metadata": {
        "id": "TxL2l9sG9EE-",
        "colab_type": "text"
      },
      "source": [
        "# **Wilcoxon rank test**\n",
        "\n",
        "Vamos usar o teste de Wilcoxon para comparar os dois classificadores combinados do knn e gaussian"
      ]
    },
    {
      "cell_type": "code",
      "metadata": {
        "id": "AeQwQyJZ9OBx",
        "colab_type": "code",
        "colab": {}
      },
      "source": [
        "from scipy.stats import wilcoxon\n",
        "from sklearn.model_selection import cross_val_score\n",
        "\n",
        "stat, p = wilcoxon(resultsGaussian, resultsKNN)\n",
        "\n",
        "print(\"-------- Gaussian x KNN --------\")\n",
        "print('Wilcoxon Statistics=%.3f, p=%.7f' % (stat, p))\n",
        "#interpret\n",
        "alpha = 0.05\n",
        "  if p > alpha:\n",
        " \tprint('Same distribution (fail to reject H0)')\n",
        " else:\n",
        " \tprint('Different distribution (reject H0)')\n"
      ],
      "execution_count": 0,
      "outputs": []
    },
    {
      "cell_type": "code",
      "metadata": {
        "id": "y1s_viQE0I2q",
        "colab_type": "code",
        "colab": {}
      },
      "source": [
        ""
      ],
      "execution_count": 0,
      "outputs": []
    }
  ]
}